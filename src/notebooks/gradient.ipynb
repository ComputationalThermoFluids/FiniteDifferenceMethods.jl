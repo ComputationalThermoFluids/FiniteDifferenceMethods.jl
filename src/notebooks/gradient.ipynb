{
 "cells": [
  {
   "cell_type": "code",
   "execution_count": null,
   "id": "fadeaf6b-ac90-4937-9c36-8c53a3ef1c07",
   "metadata": {},
   "outputs": [],
   "source": [
    "using FiniteDifferenceMethods"
   ]
  },
  {
   "cell_type": "markdown",
   "id": "b58827f5-3a5b-4131-bdc3-ba91176312f1",
   "metadata": {},
   "source": [
    "# Mesh"
   ]
  },
  {
   "cell_type": "code",
   "execution_count": null,
   "id": "1153c86a-8e71-4336-836f-1b18cfe5d7e0",
   "metadata": {},
   "outputs": [],
   "source": [
    "const T = Float64\n",
    "\n",
    "n = 5 # number of unknowns (2 ^ p + 1 for exact arithmetics)\n",
    "o = 1  # width of ghost layer\n",
    "\n",
    "inds = range(1+o, n+o)\n",
    "\n",
    "@assert o ≥ 1"
   ]
  },
  {
   "cell_type": "code",
   "execution_count": null,
   "id": "1181d6f4-9237-48bf-be2d-48066a353725",
   "metadata": {},
   "outputs": [],
   "source": [
    "x = collocated(n+2o, T, start=first(inds), stop=last(inds))\n",
    "xm = staggered(n+2o, T, start=first(inds), stop=last(inds))\n",
    "\n",
    "h = step(x)\n",
    "\n",
    "@assert isequal(step(x), step(xm))"
   ]
  },
  {
   "cell_type": "markdown",
   "id": "cbe689f2-bd8d-4234-ad23-53ae74a8ca54",
   "metadata": {},
   "source": [
    "# Apertures\n",
    "\n",
    "Let $a \\equiv 0$, $b = 1$ and $s \\in \\left ( a, b \\right )$ (the interface position). Assume fluid domain occupies\n",
    "$$\n",
    "\\Omega \\equiv \\left ( s, b \\right ).\n",
    "$$"
   ]
  },
  {
   "cell_type": "code",
   "execution_count": null,
   "id": "aa305dff-702c-4208-8f6c-1609f2d6dab6",
   "metadata": {},
   "outputs": [],
   "source": [
    "s = x[o+1] + h / 4 # interface position\n",
    "\n",
    "@assert x[o+1] < s < xm[o+1] < x[o+2]"
   ]
  },
  {
   "cell_type": "code",
   "execution_count": null,
   "id": "033956aa-30c7-408c-af08-70a0d8c1b1c8",
   "metadata": {},
   "outputs": [],
   "source": [
    "# moving boundary\n",
    "\n",
    "A = [T(el > s) for el in x]\n",
    "B = [T(el > s) for el in xm]\n",
    "W = [max(min(el+h/2-s, h), 0) for el in x];"
   ]
  },
  {
   "cell_type": "code",
   "execution_count": null,
   "id": "dfba34dd-b450-4935-820f-26c8d5dabc62",
   "metadata": {},
   "outputs": [],
   "source": [
    "# stationnary boundary\n",
    "\n",
    "inds = range(1+o, n+o)\n",
    "A[last(inds):end] .= 0\n",
    "B[last(inds):end] .= 0\n",
    "W[last(inds)+1:end] .= 0\n",
    "\n",
    "W[last(inds)] = h / 2;"
   ]
  },
  {
   "cell_type": "markdown",
   "id": "9d3aedfc-f2af-411c-81fb-c1946ea66951",
   "metadata": {},
   "source": [
    "# Operators"
   ]
  },
  {
   "cell_type": "code",
   "execution_count": null,
   "id": "43977411-ca09-4731-afbd-9608ae5470ea",
   "metadata": {},
   "outputs": [],
   "source": [
    "row = col = CartesianIndices((inds,))\n",
    "\n",
    "Gω = Gradient{:x,:ω}((A, B, W), row, col)\n",
    "Gγ = Gradient{:x,:γ}((A, B, W), row, col);"
   ]
  }
 ],
 "metadata": {
  "kernelspec": {
   "display_name": "Julia 1.10.4",
   "language": "julia",
   "name": "julia-1.10"
  },
  "language_info": {
   "file_extension": ".jl",
   "mimetype": "application/julia",
   "name": "julia",
   "version": "1.10.4"
  }
 },
 "nbformat": 4,
 "nbformat_minor": 5
}

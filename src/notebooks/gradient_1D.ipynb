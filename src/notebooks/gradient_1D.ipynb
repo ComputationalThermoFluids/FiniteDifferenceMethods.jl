{
 "cells": [
  {
   "cell_type": "code",
   "execution_count": null,
   "id": "fadeaf6b-ac90-4937-9c36-8c53a3ef1c07",
   "metadata": {},
   "outputs": [],
   "source": [
    "using Revise, FiniteDifferenceMethods"
   ]
  },
  {
   "cell_type": "markdown",
   "id": "b58827f5-3a5b-4131-bdc3-ba91176312f1",
   "metadata": {},
   "source": [
    "# Mesh"
   ]
  },
  {
   "cell_type": "code",
   "execution_count": null,
   "id": "1153c86a-8e71-4336-836f-1b18cfe5d7e0",
   "metadata": {},
   "outputs": [],
   "source": [
    "const T = Float64\n",
    "\n",
    "n = 513 # number of unknowns (2 ^ p + 1 for exact arithmetics)\n",
    "o = 1   # width of ghost layer\n",
    "\n",
    "inds = range(1+o, n+o)\n",
    "\n",
    "@assert o ≥ 1"
   ]
  },
  {
   "cell_type": "code",
   "execution_count": null,
   "id": "1181d6f4-9237-48bf-be2d-48066a353725",
   "metadata": {},
   "outputs": [],
   "source": [
    "x = collocated(n+2o, T, start=first(inds), stop=last(inds))\n",
    "xm = staggered(n+2o, T, start=first(inds), stop=last(inds))\n",
    "\n",
    "h = step(x)\n",
    "\n",
    "@assert isequal(step(x), step(xm))"
   ]
  },
  {
   "cell_type": "markdown",
   "id": "cbe689f2-bd8d-4234-ad23-53ae74a8ca54",
   "metadata": {},
   "source": [
    "# Apertures\n",
    "\n",
    "Let $a \\equiv 0$, $b = 1$ and $s \\in \\left ( a, b \\right )$ (the interface position). Assume fluid domain occupies\n",
    "$$\n",
    "\\Omega \\equiv \\left ( s, b \\right ).\n",
    "$$"
   ]
  },
  {
   "cell_type": "code",
   "execution_count": null,
   "id": "aa305dff-702c-4208-8f6c-1609f2d6dab6",
   "metadata": {},
   "outputs": [],
   "source": [
    "s = x[o+1] + h / 4 # interface position\n",
    "\n",
    "@assert x[o+1] < s < xm[o+1] < x[o+2]"
   ]
  },
  {
   "cell_type": "code",
   "execution_count": null,
   "id": "033956aa-30c7-408c-af08-70a0d8c1b1c8",
   "metadata": {},
   "outputs": [],
   "source": [
    "# implicit boundary (depends on s or level set)\n",
    "\n",
    "A = [T(el > s) for el in x]\n",
    "B = [T(el > s) for el in xm]\n",
    "W = [max(min(el+h/2-s, h), 0) for el in x];"
   ]
  },
  {
   "cell_type": "markdown",
   "id": "b53d7216-b251-4542-828c-160a0cf747b8",
   "metadata": {},
   "source": [
    "![Case `n = 9` and `o = 2`.](definition.png \"File definition.png missing.\")"
   ]
  },
  {
   "cell_type": "code",
   "execution_count": null,
   "id": "dfba34dd-b450-4935-820f-26c8d5dabc62",
   "metadata": {},
   "outputs": [],
   "source": [
    "# explicit boundary (hard-coded)\n",
    "\n",
    "inds = eachindex(A, B, W)[begin+o:begin+o+n-1]\n",
    "\n",
    "A[last(inds):end] .= 0\n",
    "B[last(inds):end] .= 0\n",
    "W[last(inds)+1:end] .= 0\n",
    "\n",
    "W[last(inds)] = h / 2;"
   ]
  },
  {
   "cell_type": "markdown",
   "id": "9d3aedfc-f2af-411c-81fb-c1946ea66951",
   "metadata": {},
   "source": [
    "# Operators"
   ]
  },
  {
   "cell_type": "code",
   "execution_count": null,
   "id": "43977411-ca09-4731-afbd-9608ae5470ea",
   "metadata": {},
   "outputs": [],
   "source": [
    "row = col = CartesianIndices((inds,))\n",
    "\n",
    "Gω = Gradient{:x,:ω}((A, B, W), row, col)\n",
    "Gγ = Gradient{:x,:γ}((A, B, W), row, col);"
   ]
  },
  {
   "cell_type": "code",
   "execution_count": null,
   "id": "f3d3b7a9-f554-440c-b358-ab610ac6cfdb",
   "metadata": {},
   "outputs": [],
   "source": [
    "getindex(Gω, 2:4, 1:5)"
   ]
  },
  {
   "cell_type": "code",
   "execution_count": null,
   "id": "b39901ea-ab79-49d8-9e6d-f943c1f692de",
   "metadata": {},
   "outputs": [],
   "source": [
    "Dω = Divergence{:x,:ω}((A, B), row, col)\n",
    "Dγ = Divergence{:x,:γ}((A, B), row, col);"
   ]
  },
  {
   "cell_type": "code",
   "execution_count": null,
   "id": "b5aa3c96-640e-4e9b-8eed-523dcf933016",
   "metadata": {},
   "outputs": [],
   "source": [
    "getindex(Dω, 2:4, 1:5)"
   ]
  },
  {
   "cell_type": "markdown",
   "id": "fad16495-382f-44ad-9e0e-0eb50ef3b396",
   "metadata": {},
   "source": [
    "# CSC format"
   ]
  },
  {
   "cell_type": "code",
   "execution_count": null,
   "id": "0975e39e-6468-4600-9b19-bef0df0418ad",
   "metadata": {},
   "outputs": [],
   "source": [
    "using SparseArrays, BenchmarkTools"
   ]
  },
  {
   "cell_type": "code",
   "execution_count": null,
   "id": "6e87ea14-1505-415e-86a1-a1e3905ed14f",
   "metadata": {},
   "outputs": [],
   "source": [
    "spGω = sparse(Gω)\n",
    "spGγ = sparse(Gγ);"
   ]
  },
  {
   "cell_type": "code",
   "execution_count": null,
   "id": "3507e78e-8d0c-4f4e-bd6d-e7c58241cd66",
   "metadata": {},
   "outputs": [],
   "source": [
    "@btime collect($Gω)\n",
    "@btime sparse($Gω);"
   ]
  },
  {
   "cell_type": "code",
   "execution_count": null,
   "id": "bc772bb0-806f-466d-93e9-c24cfb575bdf",
   "metadata": {},
   "outputs": [],
   "source": [
    "@btime (^)($spGω, 2)"
   ]
  },
  {
   "cell_type": "markdown",
   "id": "7e883486-0053-4fb9-b5a4-108dae51ed2a",
   "metadata": {},
   "source": [
    "# Test correctness\n",
    "\n",
    "Works for arbitrary geometric moments..."
   ]
  },
  {
   "cell_type": "code",
   "execution_count": null,
   "id": "bad58402-721c-482b-b08e-9ca98d088d92",
   "metadata": {},
   "outputs": [],
   "source": [
    "rA = rand(length(x))\n",
    "rB = rand(length(xm))\n",
    "rW = rand(length(x))\n",
    "\n",
    "rGω = Gradient{:x,:ω}((rA, rB, rW), row, col)\n",
    "rGγ = Gradient{:x,:ω}((rA, rB, rW), row, col)\n",
    "\n",
    "@assert iszero(sparse(rGω) - rGω)\n",
    "@assert iszero(sparse(rGγ) - rGγ)"
   ]
  },
  {
   "cell_type": "markdown",
   "id": "40f5869f-17a4-46af-975e-d425f2697fae",
   "metadata": {},
   "source": [
    "... and possible configurations."
   ]
  },
  {
   "cell_type": "code",
   "execution_count": null,
   "id": "5f2e920c-47f7-4fdf-9966-5a2905324b91",
   "metadata": {},
   "outputs": [],
   "source": [
    "for _ in 1:10_000\n",
    "    row = CartesianIndices((rand(inds):rand(inds),))\n",
    "    col = CartesianIndices((rand(inds):rand(inds),))\n",
    "\n",
    "    rGω = Gradient{:x,:ω}((rA, rB, rW), row, col)\n",
    "\n",
    "    @assert iszero(sparse(rGω) - collect(rGω))\n",
    "end"
   ]
  },
  {
   "cell_type": "code",
   "execution_count": null,
   "id": "7a793aaf-139b-4fad-a8c9-14bf733d9040",
   "metadata": {},
   "outputs": [],
   "source": [
    "(row, col) = (CartesianIndices((5:6,)), CartesianIndices((3:4,)))\n",
    "rGω = Gradient{:x,:ω}((rA, rB, rW), row, col)\n",
    "sparse(rGω)"
   ]
  },
  {
   "cell_type": "code",
   "execution_count": null,
   "id": "85e23e4d-1724-45bf-8d19-073ab9e34612",
   "metadata": {},
   "outputs": [],
   "source": [
    "(row, col) = CartesianIndices((3:4,)), (CartesianIndices((4:5,)))\n",
    "rGω = Gradient{:x,:ω}((rA, rB, rW), row, col)\n",
    "sparse(rGω)"
   ]
  },
  {
   "cell_type": "code",
   "execution_count": null,
   "id": "e7e046b1-8a5d-43a4-8635-b2e1c94f3e25",
   "metadata": {},
   "outputs": [],
   "source": []
  }
 ],
 "metadata": {
  "kernelspec": {
   "display_name": "Julia 1.10.4",
   "language": "julia",
   "name": "julia-1.10"
  },
  "language_info": {
   "file_extension": ".jl",
   "mimetype": "application/julia",
   "name": "julia",
   "version": "1.10.4"
  }
 },
 "nbformat": 4,
 "nbformat_minor": 5
}
